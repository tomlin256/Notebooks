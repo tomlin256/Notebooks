{
 "cells": [
  {
   "cell_type": "code",
   "execution_count": 1,
   "metadata": {},
   "outputs": [],
   "source": [
    "import ipywidgets as ipw\n",
    "\n",
    "FREQUENCIES = ( '1D', '1M', '3M', '6M', '12M' )\n",
    "DCC         = ( 'Act/360', 'Act/365', 'Act/365F', '30/360' )\n",
    "\n",
    "out = ipw.Output()\n",
    "\n",
    "class IHaveWidget( object ):\n",
    "    \n",
    "    def _ipython_display_( self ):\n",
    "        display( self.widget() )\n",
    "\n",
    "class Leg( object ):\n",
    "    \n",
    "    def __init__( self ):\n",
    "        self.payFreq = ipw.Dropdown( description='Freq', options = FREQUENCIES, value='3M' )\n",
    "        self.dcc     = ipw.Dropdown( description='DCC', options = DCC, value='Act/360' )\n",
    "        \n",
    "    def values( self ):\n",
    "        values = {}\n",
    "        values.update( { 'payFreq' : self.payFreq.value,\n",
    "                         'dcc'     : self.dcc.value } )\n",
    "        return values\n",
    "   \n",
    "class FixedLeg( Leg, IHaveWidget ):\n",
    "    \n",
    "    def widget( self ):\n",
    "        w = ipw.VBox( [ self.payFreq, \n",
    "                        self.dcc ] )\n",
    "        return w\n",
    "    \n",
    "\n",
    "class FloatLeg( Leg ):\n",
    "    def __init__( self ):\n",
    "        super( FloatLeg, self ).__init__()\n",
    "        self.rateIndex = ipw.Text( value = 'USD-LIBOR-3m', description='Rate Index' )\n",
    "        self.resetAdj  = ipw.Text( value = '-2D(USD,GBP)', description='Reset Adj' )\n",
    "        \n",
    "    def widget( self ):\n",
    "        w = ipw.VBox( [ self.payFreq, \n",
    "                        self.dcc, \n",
    "                        self.rateIndex, \n",
    "                        self.resetAdj ] )\n",
    "        return w\n",
    "    \n",
    "    def values( self ):\n",
    "        values = super( FloatLeg, self ).values()\n",
    "        values.update( { 'rateIndex' : self.rateIndex.value,\n",
    "                         'resetAdj'  : self.resetAdj.value } )\n",
    "        return values\n",
    "    \n",
    "    \n",
    "class NamedObject( object ):\n",
    "    \n",
    "    def __init__( self, name):\n",
    "        self.name       = ipw.Text( value = name )\n",
    "        \n",
    "    def values( self ):\n",
    "        values = { 'name' : self.name.value }\n",
    "        return values\n",
    "    \n",
    "    \n",
    "class Instrument( NamedObject ):\n",
    "    \n",
    "    def __init__( self, name ):\n",
    "        super( Instrument, self ).__init__( name )\n",
    "        self.instType  = ipw.Text( value = str( self.__class__.__name__ ) )\n",
    "        \n",
    "    def values( self ):\n",
    "        values = super( Instrument, self ).values()\n",
    "        values.update( { 'instType' : self.instType.value } )\n",
    "        return values\n",
    "    \n",
    "    \n",
    "class Swap( Instrument, IHaveWidget ):\n",
    "    def __init__( self, name ):\n",
    "        super( Swap, self ).__init__( name )\n",
    "        self.fixedLeg = FixedLeg()\n",
    "        self.floatLeg = FloatLeg()\n",
    "        \n",
    "    def widget( self ):\n",
    "        tabs = ipw.Tab( [ l.widget() \n",
    "                           for l in ( self.fixedLeg, \n",
    "                                      self.floatLeg ) ] )\n",
    "        tabs.set_title( 0, 'Fixed Leg' )\n",
    "        tabs.set_title( 1, 'Floating Leg')\n",
    "        w = ipw.VBox( [ self.name, tabs ] )\n",
    "        return w\n",
    "    \n",
    "    def values( self ):\n",
    "        values = super( Swap, self ).values()\n",
    "        values.update( { 'fixedLeg' : self.fixedLeg.values(), \n",
    "                         'floatLeg' : self.floatLeg.values() } )\n",
    "        return values\n",
    "\n",
    "    \n",
    "class InstrumentEditor( object ):\n",
    "    \n",
    "    def __init__( self, instrument ):\n",
    "        self.instrument = instrument\n",
    "        self._widget = self.instrument.widget()\n",
    "        self._editor = ipw.HBox( [ self._widget ] )\n",
    "        \n",
    "    def _ipython_display_( self ):\n",
    "        display( self._editor )\n",
    "\n"
   ]
  },
  {
   "cell_type": "code",
   "execution_count": 2,
   "metadata": {},
   "outputs": [
    {
     "data": {
      "application/vnd.jupyter.widget-view+json": {
       "model_id": "855e09f757b245a89f5c6c1312a8e5d7",
       "version_major": 2,
       "version_minor": 0
      },
      "text/plain": [
       "HBox(children=(VBox(children=(Text(value='swap1'), Tab(children=(VBox(children=(Dropdown(description='Freq', i…"
      ]
     },
     "metadata": {},
     "output_type": "display_data"
    }
   ],
   "source": [
    "instrument = Swap( 'swap1' )\n",
    "editor = InstrumentEditor( instrument )\n",
    "editor"
   ]
  },
  {
   "cell_type": "code",
   "execution_count": 3,
   "metadata": {},
   "outputs": [],
   "source": [
    "editor._editor.children = [Swap( 'swap2' ).widget() ]"
   ]
  },
  {
   "cell_type": "code",
   "execution_count": 4,
   "metadata": {},
   "outputs": [
    {
     "data": {
      "application/vnd.jupyter.widget-view+json": {
       "model_id": "bd0fff093b0b47e78f994d61de15f60e",
       "version_major": 2,
       "version_minor": 0
      },
      "text/plain": [
       "Button(description='Create swap', style=ButtonStyle())"
      ]
     },
     "metadata": {},
     "output_type": "display_data"
    },
    {
     "data": {
      "application/vnd.jupyter.widget-view+json": {
       "model_id": "2f0b428647274341a4d8046fd14fca6d",
       "version_major": 2,
       "version_minor": 0
      },
      "text/plain": [
       "Output()"
      ]
     },
     "metadata": {},
     "output_type": "display_data"
    }
   ],
   "source": [
    "def _create( b ):\n",
    "    out.clear_output()\n",
    "    with out:\n",
    "        print( instrument.values() )\n",
    "    \n",
    "button = ipw.Button( description='Create swap')\n",
    "button.on_click( _create )\n",
    "display( button, out )"
   ]
  }
 ],
 "metadata": {
  "kernelspec": {
   "display_name": "Python 3",
   "language": "python",
   "name": "python3"
  },
  "language_info": {
   "codemirror_mode": {
    "name": "ipython",
    "version": 3
   },
   "file_extension": ".py",
   "mimetype": "text/x-python",
   "name": "python",
   "nbconvert_exporter": "python",
   "pygments_lexer": "ipython3",
   "version": "3.7.4"
  }
 },
 "nbformat": 4,
 "nbformat_minor": 4
}
