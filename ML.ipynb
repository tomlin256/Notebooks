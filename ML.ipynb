{
 "cells": [
  {
   "cell_type": "markdown",
   "metadata": {},
   "source": [
    "# Machine Learning Notes"
   ]
  },
  {
   "cell_type": "markdown",
   "metadata": {},
   "source": [
    "This note book contains some notes i made whilst learning about machine learning. Feel free to copy/paste/steal."
   ]
  },
  {
   "cell_type": "markdown",
   "metadata": {},
   "source": [
    "## Probability notes\n",
    "\n",
    "This link has a good description of likelihood estimation\n",
    "\n",
    "https://towardsdatascience.com/probability-concepts-explained-maximum-likelihood-estimation-c7b4342fdbb1\n",
    "\n",
    "## Policy Gradients\n",
    "\n",
    "This has a okish intro to policy gradients (although part 2 was never done)\n",
    "\n",
    "https://towardsdatascience.com/an-intuitive-explanation-of-policy-gradient-part-1-reinforce-aa4392cbfd3c\n",
    "\n",
    "The example simulation code compute the gradiants like so:"
   ]
  },
  {
   "cell_type": "code",
   "execution_count": 13,
   "metadata": {},
   "outputs": [
    {
     "data": {
      "text/plain": [
       "[<matplotlib.lines.Line2D at 0x1179f8610>]"
      ]
     },
     "execution_count": 13,
     "metadata": {},
     "output_type": "execute_result"
    },
    {
     "data": {
      "image/png": "[encoded data removed]",
      "text/plain": [
       "<Figure size 432x288 with 1 Axes>"
      ]
     },
     "metadata": {
      "needs_background": "light"
     },
     "output_type": "display_data"
    }
   ],
   "source": [
    "\n",
    "from matplotlib import pyplot as plt\n",
    "import numpy as np\n",
    "xs = np.arange(0,1,0.05)\n",
    "y = lambda x: x * (1-x)\n",
    "ys = [ y(x) for x in xs]\n",
    "plt.plot(xs,ys)"
   ]
  },
  {
   "cell_type": "markdown",
   "metadata": {},
   "source": [
    "In the doc it describes how the two update functions are the same via the chain rule. Here is the proof\n",
    "\n",
    "The chain rule states if\n",
    "\n",
    "\\begin{align}\n",
    "F(x) &= f(g(x)) \\\\\n",
    "F'(x) &= f'(g(x)) * g'(x)\n",
    "\\end{align}\n",
    "\n",
    "so starting with the log based update formula\n",
    "\n",
    "\\begin{align}\n",
    "\\theta_{t+1} = \\theta_t + \\alpha\\hat{A}(a|s)\\triangledown{ln(\\pi_{\\theta}(a|s)}\n",
    "\\end{align}\n",
    "\n",
    "and remembering that the ML notation typically writes\n",
    "\n",
    "\\begin{align}\n",
    "\\triangledown{f(x)} = f'(x)\n",
    "\\end{align}\n",
    "\n",
    "we can define the following\n",
    "\n",
    "\\begin{align}\n",
    "g(x) &= \\pi_{\\theta}(a|s) \\\\\n",
    "f(g(x)) &= ln(g(x))\n",
    "\\end{align}\n",
    "\n",
    "so given (and subsituting $g(x)$ in the second step)\n",
    "\n",
    "\\begin{align}\n",
    "f'(g(x)) &= \\frac{1}{g(x)} \\\\\n",
    "         &= \\frac{1}{\\pi_{\\theta}(a|s)}\n",
    "\\end{align}\n",
    "\n",
    "We arrive at proof that the two are the same (in the last step we simply use the ML notation and substiture $g(x)$)\n",
    "\n",
    "\\begin{align}\n",
    "\\theta_{t+1} - \\theta_t &= \\alpha\\hat{A}(a|s)\\triangledown{ln(\\pi_{\\theta}(a|s)} \\\\\n",
    "                        &= \\alpha\\hat{A}(a|s)\\frac{g'(x)}{\\pi_{\\theta}(a|s)} \\\\\n",
    "                        &= \\alpha\\hat{A}(a|s)\\frac{\\triangledown\\pi_{\\theta}(a|s)}{\\pi_{\\theta}(a|s)} \\\\\n",
    "\\end{align}\n",
    "\n",
    "\n",
    "### $\\hat{A}$ vs $\\hat{Q}$ function\n",
    "\n",
    "In the proof i said nothing about $\\hat{A}$ vs $\\hat{Q}$. Firstly i read this doc, to remind me what the value function is\n",
    "\n",
    "https://towardsdatascience.com/reinforcement-learning-value-function-57b04e911152\n",
    "\n",
    "So $V^{\\pi}(s)$ is the value of being in state $s$, which is the value of future expected rewards following policy $\\pi$\n",
    "\n",
    "\\begin{align}\n",
    "V^{\\pi}(s) = \\mathbb{E}\\sum_{i=1}^{T}{\\gamma^{i-1}r_i}\n",
    "\\end{align}\n",
    "\n",
    "$\\hat{A}$ is the \"advantage\" function describing the advantage of taking action $a_x$ over action $a_y$ in state $s$ and is defined by\n",
    "\n",
    "\\begin{align}\n",
    "\\hat{A}(a|s) &= \\hat{Q}(a|s) - V(s)\n",
    "\\end{align}\n",
    "\n",
    "This has the effect of rebaselining the update given the value of the current state. Remember the Q's capture the reward from state $s$ and an estimate of the maximum future reward. The aim is to reduce the variance when using this in a monte-carlo based method (such as REINFORCE)\n",
    "\n",
    "We are not limited to using $V(s)$, so long as our base line is not a function of a specific action.\n",
    "\n",
    "### Where is the cost function? ##\n",
    "\n",
    "Remember that our expression for $\\theta_{t+1}$ is the update rule we following during our optimisation algorithm of the form\n",
    "\n",
    "\\begin{align}\n",
    "\\theta_{t+1} = \\theta_t - \\alpha\\triangledown{J(\\theta)}\n",
    "\\end{align}\n",
    "\n",
    "where $J(\\theta)$ is a cost function. Therefor under policy gradients our cost function is $\\hat{A}\\ln{(\\pi_{\\theta}(a|s))}$\n",
    "\n",
    "\n"
   ]
  }
 ],
 "metadata": {
  "kernelspec": {
   "display_name": "Python 3",
   "language": "python",
   "name": "python3"
  },
  "language_info": {
   "codemirror_mode": {
    "name": "ipython",
    "version": 3
   },
   "file_extension": ".py",
   "mimetype": "text/x-python",
   "name": "python",
   "nbconvert_exporter": "python",
   "pygments_lexer": "ipython3",
   "version": "3.7.4"
  }
 },
 "nbformat": 4,
 "nbformat_minor": 4
}
